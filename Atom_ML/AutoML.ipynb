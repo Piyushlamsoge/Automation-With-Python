{
 "cells": [
  {
   "cell_type": "code",
   "execution_count": 4,
   "metadata": {},
   "outputs": [],
   "source": [
    "from sklearn.datasets import load_breast_cancer\n",
    "from sklearn.preprocessing import StandardScaler\n",
    "from atom import ATOMClassifier"
   ]
  },
  {
   "cell_type": "code",
   "execution_count": 5,
   "metadata": {},
   "outputs": [],
   "source": [
    "x ,y = load_breast_cancer(return_X_y=True)"
   ]
  },
  {
   "cell_type": "code",
   "execution_count": 6,
   "metadata": {},
   "outputs": [
    {
     "name": "stdout",
     "output_type": "stream",
     "text": [
      "<< ================== ATOM ================== >>\n",
      "Algorithm task: binary classification.\n",
      "Parallel processing with 6 cores.\n",
      "\n",
      "Dataset stats ==================== >>\n",
      "Shape: (569, 31)\n",
      "Memory: 141.24 kB\n",
      "Scaled: False\n",
      "Outlier values: 167 (1.2%)\n",
      "-------------------------------------\n",
      "Train set size: 456\n",
      "Test set size: 113\n",
      "-------------------------------------\n",
      "|   |     dataset |       train |        test |\n",
      "| - | ----------- | ----------- | ----------- |\n",
      "| 0 |   212 (1.0) |   170 (1.0) |    42 (1.0) |\n",
      "| 1 |   357 (1.7) |   286 (1.7) |    71 (1.7) |\n",
      "\n"
     ]
    }
   ],
   "source": [
    "atom = ATOMClassifier(x, y , n_jobs = 6 , verbose = 2 , random_state=1)"
   ]
  },
  {
   "cell_type": "code",
   "execution_count": 7,
   "metadata": {},
   "outputs": [
    {
     "name": "stdout",
     "output_type": "stream",
     "text": [
      "Adding StandardScaler to the pipeline...\n",
      "Fitting StandardScaler...\n"
     ]
    }
   ],
   "source": [
    "atom.add(StandardScaler())"
   ]
  },
  {
   "cell_type": "code",
   "execution_count": 8,
   "metadata": {},
   "outputs": [
    {
     "data": {
      "text/plain": [
       "True"
      ]
     },
     "execution_count": 8,
     "metadata": {},
     "output_type": "execute_result"
    }
   ],
   "source": [
    "atom.scaled"
   ]
  },
  {
   "cell_type": "code",
   "execution_count": 9,
   "metadata": {},
   "outputs": [
    {
     "name": "stdout",
     "output_type": "stream",
     "text": [
      "Searching for optimal pipeline...\n",
      "AutoMLSearch will use the holdout set to score and rank pipelines.\n",
      "Generating pipelines to search over...\n",
      "8 pipelines ready for search.\n",
      "\n",
      "*****************************\n",
      "* Beginning pipeline search *\n",
      "*****************************\n",
      "\n",
      "Optimizing for Precision. \n",
      "Greater score is better.\n",
      "\n",
      "Using SequentialEngine to train and score pipelines.\n",
      "Will stop searching for new pipelines after 120 seconds.\n",
      "\n",
      "Allowed model families: linear_model, linear_model, xgboost, lightgbm, catboost, random_forest, decision_tree, extra_trees\n",
      "\n"
     ]
    },
    {
     "data": {
      "application/vnd.jupyter.widget-view+json": {
       "model_id": "3c8f745fe0274821bdbdb00b525f5b1a",
       "version_major": 2,
       "version_minor": 0
      },
      "text/plain": [
       "FigureWidget({\n",
       "    'data': [{'mode': 'lines+markers',\n",
       "              'name': 'Best Score',\n",
       "              'type': 'scatter',\n",
       "              'uid': 'e149e980-f7b3-40b6-81e5-4351efb7e79c',\n",
       "              'x': [],\n",
       "              'y': []},\n",
       "             {'marker': {'color': 'gray'},\n",
       "              'mode': 'markers',\n",
       "              'name': 'Iter score',\n",
       "              'type': 'scatter',\n",
       "              'uid': '402bfc46-451c-4164-95d6-be642fa1c900',\n",
       "              'x': [],\n",
       "              'y': []}],\n",
       "    'layout': {'showlegend': False,\n",
       "               'template': '...',\n",
       "               'title': {'text': ('Pipeline Search: Iteration vs.' ... 'ore at current iteration</sub>')},\n",
       "               'xaxis': {'rangemode': 'tozero', 'title': {'text': 'Iteration'}},\n",
       "               'yaxis': {'title': {'text': 'Validation Score'}}}\n",
       "})"
      ]
     },
     "metadata": {},
     "output_type": "display_data"
    },
    {
     "name": "stdout",
     "output_type": "stream",
     "text": [
      "Evaluating Baseline Pipeline: Mode Baseline Binary Classification Pipeline\n",
      "Mode Baseline Binary Classification Pipeline:\n",
      "\tStarting cross validation\n",
      "\tFinished cross validation - mean Precision: 0.000\n",
      "\tStarting holdout set scoring\n",
      "\tFinished holdout set scoring - Precision: 0.000\n",
      "\n",
      "*****************************\n",
      "* Evaluating Batch Number 1 *\n",
      "*****************************\n",
      "\n",
      "Elastic Net Classifier w/ Label Encoder + Replace Nullable Types Transformer + Imputer + Standard Scaler:\n",
      "\tStarting cross validation\n",
      "\tFinished cross validation - mean Precision: 1.000\n",
      "\tStarting holdout set scoring\n",
      "\tFinished holdout set scoring - Precision: 1.000\n",
      "Logistic Regression Classifier w/ Label Encoder + Replace Nullable Types Transformer + Imputer + Standard Scaler:\n",
      "\tStarting cross validation\n",
      "\tFinished cross validation - mean Precision: 1.000\n",
      "\tStarting holdout set scoring\n",
      "\tFinished holdout set scoring - Precision: 1.000\n",
      "XGBoost Classifier w/ Label Encoder + Replace Nullable Types Transformer + Imputer:\n",
      "\tStarting cross validation\n",
      "\tFinished cross validation - mean Precision: 0.992\n",
      "\tStarting holdout set scoring\n",
      "\tFinished holdout set scoring - Precision: 1.000\n",
      "LightGBM Classifier w/ Label Encoder + Replace Nullable Types Transformer + Imputer:\n",
      "\tStarting cross validation\n",
      "\tFinished cross validation - mean Precision: 0.975\n",
      "\tStarting holdout set scoring\n",
      "\tFinished holdout set scoring - Precision: 0.975\n",
      "CatBoost Classifier w/ Label Encoder + Replace Nullable Types Transformer + Imputer:\n",
      "\tStarting cross validation\n",
      "\tFinished cross validation - mean Precision: 0.994\n",
      "\tStarting holdout set scoring\n",
      "\tFinished holdout set scoring - Precision: 1.000\n",
      "Random Forest Classifier w/ Label Encoder + Replace Nullable Types Transformer + Imputer:\n",
      "\tStarting cross validation\n",
      "\tFinished cross validation - mean Precision: 1.000\n",
      "\tStarting holdout set scoring\n",
      "\tFinished holdout set scoring - Precision: 1.000\n",
      "Decision Tree Classifier w/ Label Encoder + Replace Nullable Types Transformer + Imputer:\n",
      "\tStarting cross validation\n",
      "\tFinished cross validation - mean Precision: 0.884\n",
      "\tStarting holdout set scoring\n",
      "\tFinished holdout set scoring - Precision: 0.943\n",
      "Extra Trees Classifier w/ Label Encoder + Replace Nullable Types Transformer + Imputer:\n",
      "\tStarting cross validation\n",
      "\tFinished cross validation - mean Precision: 1.000\n",
      "\tStarting holdout set scoring\n",
      "\tFinished holdout set scoring - Precision: 1.000\n",
      "\n",
      "*****************************\n",
      "* Evaluating Batch Number 2 *\n",
      "*****************************\n",
      "\n",
      "Elastic Net Classifier w/ Label Encoder + Replace Nullable Types Transformer + Imputer + Standard Scaler:\n",
      "\tStarting cross validation\n",
      "\tFinished cross validation - mean Precision: 1.000\n",
      "\tStarting holdout set scoring\n",
      "\tFinished holdout set scoring - Precision: 1.000\n",
      "Elastic Net Classifier w/ Label Encoder + Replace Nullable Types Transformer + Imputer + Standard Scaler:\n",
      "\tStarting cross validation\n",
      "\tFinished cross validation - mean Precision: 1.000\n",
      "\tStarting holdout set scoring\n",
      "\tFinished holdout set scoring - Precision: 1.000\n",
      "Elastic Net Classifier w/ Label Encoder + Replace Nullable Types Transformer + Imputer + Standard Scaler:\n",
      "\tStarting cross validation\n",
      "\tFinished cross validation - mean Precision: 1.000\n",
      "\tStarting holdout set scoring\n",
      "\tFinished holdout set scoring - Precision: 1.000\n",
      "Elastic Net Classifier w/ Label Encoder + Replace Nullable Types Transformer + Imputer + Standard Scaler:\n",
      "\tStarting cross validation\n",
      "\tFinished cross validation - mean Precision: 1.000\n",
      "\tStarting holdout set scoring\n",
      "\tFinished holdout set scoring - Precision: 1.000\n",
      "Elastic Net Classifier w/ Label Encoder + Replace Nullable Types Transformer + Imputer + Standard Scaler:\n",
      "\tStarting cross validation\n",
      "\tFinished cross validation - mean Precision: 1.000\n",
      "\tStarting holdout set scoring\n",
      "\tFinished holdout set scoring - Precision: 1.000\n",
      "\n",
      "*****************************\n",
      "* Evaluating Batch Number 3 *\n",
      "*****************************\n",
      "\n",
      "Logistic Regression Classifier w/ Label Encoder + Replace Nullable Types Transformer + Imputer + Standard Scaler:\n",
      "\tStarting cross validation\n",
      "\tFinished cross validation - mean Precision: 1.000\n",
      "\tStarting holdout set scoring\n",
      "\tFinished holdout set scoring - Precision: 1.000\n",
      "Logistic Regression Classifier w/ Label Encoder + Replace Nullable Types Transformer + Imputer + Standard Scaler:\n",
      "\tStarting cross validation\n",
      "\tFinished cross validation - mean Precision: 0.994\n",
      "\tStarting holdout set scoring\n",
      "\tFinished holdout set scoring - Precision: 1.000\n",
      "Logistic Regression Classifier w/ Label Encoder + Replace Nullable Types Transformer + Imputer + Standard Scaler:\n",
      "\tStarting cross validation\n",
      "\tFinished cross validation - mean Precision: 0.994\n",
      "\tStarting holdout set scoring\n",
      "\tFinished holdout set scoring - Precision: 1.000\n",
      "Logistic Regression Classifier w/ Label Encoder + Replace Nullable Types Transformer + Imputer + Standard Scaler:\n",
      "\tStarting cross validation\n",
      "\tFinished cross validation - mean Precision: 0.994\n",
      "\tStarting holdout set scoring\n",
      "\tFinished holdout set scoring - Precision: 1.000\n",
      "Logistic Regression Classifier w/ Label Encoder + Replace Nullable Types Transformer + Imputer + Standard Scaler:\n",
      "\tStarting cross validation\n",
      "\tFinished cross validation - mean Precision: 0.994\n",
      "\tStarting holdout set scoring\n",
      "\tFinished holdout set scoring - Precision: 1.000\n",
      "\n",
      "*****************************\n",
      "* Evaluating Batch Number 4 *\n",
      "*****************************\n",
      "\n",
      "XGBoost Classifier w/ Label Encoder + Replace Nullable Types Transformer + Imputer:\n",
      "\tStarting cross validation\n",
      "\tFinished cross validation - mean Precision: 0.988\n",
      "\tStarting holdout set scoring\n",
      "\tFinished holdout set scoring - Precision: 1.000\n",
      "XGBoost Classifier w/ Label Encoder + Replace Nullable Types Transformer + Imputer:\n",
      "\tStarting cross validation\n",
      "\tFinished cross validation - mean Precision: 0.993\n",
      "\tStarting holdout set scoring\n",
      "\tFinished holdout set scoring - Precision: 1.000\n",
      "XGBoost Classifier w/ Label Encoder + Replace Nullable Types Transformer + Imputer:\n",
      "\tStarting cross validation\n",
      "\tFinished cross validation - mean Precision: 0.966\n",
      "\tStarting holdout set scoring\n",
      "\tFinished holdout set scoring - Precision: 1.000\n",
      "XGBoost Classifier w/ Label Encoder + Replace Nullable Types Transformer + Imputer:\n",
      "\tStarting cross validation\n",
      "\tFinished cross validation - mean Precision: 0.992\n",
      "\tStarting holdout set scoring\n",
      "\tFinished holdout set scoring - Precision: 1.000\n",
      "XGBoost Classifier w/ Label Encoder + Replace Nullable Types Transformer + Imputer:\n",
      "\tStarting cross validation\n",
      "\tFinished cross validation - mean Precision: 1.000\n",
      "\tStarting holdout set scoring\n",
      "\tFinished holdout set scoring - Precision: 1.000\n",
      "\n",
      "*****************************\n",
      "* Evaluating Batch Number 5 *\n",
      "*****************************\n",
      "\n",
      "CatBoost Classifier w/ Label Encoder + Replace Nullable Types Transformer + Imputer:\n",
      "\tStarting cross validation\n",
      "\tFinished cross validation - mean Precision: 1.000\n",
      "\tStarting holdout set scoring\n",
      "\tFinished holdout set scoring - Precision: 1.000\n",
      "CatBoost Classifier w/ Label Encoder + Replace Nullable Types Transformer + Imputer:\n",
      "\tStarting cross validation\n",
      "\tFinished cross validation - mean Precision: 0.988\n",
      "\tStarting holdout set scoring\n",
      "\tFinished holdout set scoring - Precision: 0.970\n",
      "CatBoost Classifier w/ Label Encoder + Replace Nullable Types Transformer + Imputer:\n",
      "\tStarting cross validation\n",
      "\tFinished cross validation - mean Precision: 1.000\n",
      "\tStarting holdout set scoring\n",
      "\tFinished holdout set scoring - Precision: 1.000\n",
      "CatBoost Classifier w/ Label Encoder + Replace Nullable Types Transformer + Imputer:\n",
      "\tStarting cross validation\n",
      "\tFinished cross validation - mean Precision: 0.982\n",
      "\tStarting holdout set scoring\n",
      "\tFinished holdout set scoring - Precision: 0.930\n",
      "CatBoost Classifier w/ Label Encoder + Replace Nullable Types Transformer + Imputer:\n",
      "\tStarting cross validation\n",
      "\tFinished cross validation - mean Precision: 0.969\n",
      "\tStarting holdout set scoring\n",
      "\tFinished holdout set scoring - Precision: 0.971\n",
      "\n",
      "*****************************\n",
      "* Evaluating Batch Number 6 *\n",
      "*****************************\n",
      "\n",
      "Random Forest Classifier w/ Label Encoder + Replace Nullable Types Transformer + Imputer:\n",
      "\tStarting cross validation\n",
      "\tFinished cross validation - mean Precision: 1.000\n",
      "\tStarting holdout set scoring\n",
      "\tFinished holdout set scoring - Precision: 1.000\n",
      "Random Forest Classifier w/ Label Encoder + Replace Nullable Types Transformer + Imputer:\n",
      "\tStarting cross validation\n",
      "\tFinished cross validation - mean Precision: 1.000\n",
      "\tStarting holdout set scoring\n",
      "\tFinished holdout set scoring - Precision: 1.000\n",
      "Random Forest Classifier w/ Label Encoder + Replace Nullable Types Transformer + Imputer:\n",
      "\tStarting cross validation\n",
      "\tFinished cross validation - mean Precision: 1.000\n",
      "\tStarting holdout set scoring\n",
      "\tFinished holdout set scoring - Precision: 1.000\n",
      "Random Forest Classifier w/ Label Encoder + Replace Nullable Types Transformer + Imputer:\n",
      "\tStarting cross validation\n",
      "\tFinished cross validation - mean Precision: 1.000\n",
      "\tStarting holdout set scoring\n",
      "\tFinished holdout set scoring - Precision: 1.000\n",
      "\n",
      "Search finished after 02:06            \n",
      "Best pipeline: Logistic Regression Classifier w/ Label Encoder + Replace Nullable Types Transformer + Imputer + Standard Scaler\n",
      "Best pipeline Precision: 1.000000\n",
      "\n",
      "Merging automl results with atom...\n",
      " --> Adding LabelEncoder to the pipeline...\n",
      " --> Adding ReplaceNullableTypes to the pipeline...\n",
      " --> Adding Imputer to the pipeline...\n",
      " --> Adding StandardScaler to the pipeline...\n",
      " --> Adding model LogisticRegression (LR) to the pipeline...\n"
     ]
    }
   ],
   "source": [
    "atom.automl(objective = \"precision\" , max_time =2*60)"
   ]
  },
  {
   "cell_type": "code",
   "execution_count": 10,
   "metadata": {},
   "outputs": [
    {
     "data": {
      "text/plain": [
       "<evalml.automl.automl_search.AutoMLSearch at 0x7fe68cd6d730>"
      ]
     },
     "execution_count": 10,
     "metadata": {},
     "output_type": "execute_result"
    }
   ],
   "source": [
    "atom.evalml"
   ]
  },
  {
   "cell_type": "code",
   "execution_count": 11,
   "metadata": {},
   "outputs": [
    {
     "name": "stdout",
     "output_type": "stream",
     "text": [
      "Branch: master\n",
      " --> Pipeline: \n",
      "   --> StandardScaler\n",
      "   --> LabelEncoder\n",
      "   --> ReplaceNullableTypes\n",
      "   --> Imputer\n",
      "   --> StandardScaler\n",
      " --> Models: LR\n"
     ]
    }
   ],
   "source": [
    "atom.branch.status()"
   ]
  },
  {
   "cell_type": "code",
   "execution_count": 12,
   "metadata": {},
   "outputs": [
    {
     "data": {
      "image/png": "[encoded data removed]",
      "text/plain": [
       "<Figure size 2100x100 with 1 Axes>"
      ]
     },
     "metadata": {},
     "output_type": "display_data"
    }
   ],
   "source": [
    "atom.plot_pipeline()"
   ]
  },
  {
   "cell_type": "code",
   "execution_count": 13,
   "metadata": {},
   "outputs": [
    {
     "data": {
      "text/plain": [
       "LogisticRegression\n",
       " --> Estimator: LogisticRegression\n",
       " --> Evaluation: precision: 0.9726"
      ]
     },
     "execution_count": 13,
     "metadata": {},
     "output_type": "execute_result"
    }
   ],
   "source": [
    "atom.lr"
   ]
  },
  {
   "cell_type": "code",
   "execution_count": 14,
   "metadata": {},
   "outputs": [
    {
     "data": {
      "text/html": [
       "<style>#sk-container-id-1 {color: black;background-color: white;}#sk-container-id-1 pre{padding: 0;}#sk-container-id-1 div.sk-toggleable {background-color: white;}#sk-container-id-1 label.sk-toggleable__label {cursor: pointer;display: block;width: 100%;margin-bottom: 0;padding: 0.3em;box-sizing: border-box;text-align: center;}#sk-container-id-1 label.sk-toggleable__label-arrow:before {content: \"▸\";float: left;margin-right: 0.25em;color: #696969;}#sk-container-id-1 label.sk-toggleable__label-arrow:hover:before {color: black;}#sk-container-id-1 div.sk-estimator:hover label.sk-toggleable__label-arrow:before {color: black;}#sk-container-id-1 div.sk-toggleable__content {max-height: 0;max-width: 0;overflow: hidden;text-align: left;background-color: #f0f8ff;}#sk-container-id-1 div.sk-toggleable__content pre {margin: 0.2em;color: black;border-radius: 0.25em;background-color: #f0f8ff;}#sk-container-id-1 input.sk-toggleable__control:checked~div.sk-toggleable__content {max-height: 200px;max-width: 100%;overflow: auto;}#sk-container-id-1 input.sk-toggleable__control:checked~label.sk-toggleable__label-arrow:before {content: \"▾\";}#sk-container-id-1 div.sk-estimator input.sk-toggleable__control:checked~label.sk-toggleable__label {background-color: #d4ebff;}#sk-container-id-1 div.sk-label input.sk-toggleable__control:checked~label.sk-toggleable__label {background-color: #d4ebff;}#sk-container-id-1 input.sk-hidden--visually {border: 0;clip: rect(1px 1px 1px 1px);clip: rect(1px, 1px, 1px, 1px);height: 1px;margin: -1px;overflow: hidden;padding: 0;position: absolute;width: 1px;}#sk-container-id-1 div.sk-estimator {font-family: monospace;background-color: #f0f8ff;border: 1px dotted black;border-radius: 0.25em;box-sizing: border-box;margin-bottom: 0.5em;}#sk-container-id-1 div.sk-estimator:hover {background-color: #d4ebff;}#sk-container-id-1 div.sk-parallel-item::after {content: \"\";width: 100%;border-bottom: 1px solid gray;flex-grow: 1;}#sk-container-id-1 div.sk-label:hover label.sk-toggleable__label {background-color: #d4ebff;}#sk-container-id-1 div.sk-serial::before {content: \"\";position: absolute;border-left: 1px solid gray;box-sizing: border-box;top: 0;bottom: 0;left: 50%;z-index: 0;}#sk-container-id-1 div.sk-serial {display: flex;flex-direction: column;align-items: center;background-color: white;padding-right: 0.2em;padding-left: 0.2em;position: relative;}#sk-container-id-1 div.sk-item {position: relative;z-index: 1;}#sk-container-id-1 div.sk-parallel {display: flex;align-items: stretch;justify-content: center;background-color: white;position: relative;}#sk-container-id-1 div.sk-item::before, #sk-container-id-1 div.sk-parallel-item::before {content: \"\";position: absolute;border-left: 1px solid gray;box-sizing: border-box;top: 0;bottom: 0;left: 50%;z-index: -1;}#sk-container-id-1 div.sk-parallel-item {display: flex;flex-direction: column;z-index: 1;position: relative;background-color: white;}#sk-container-id-1 div.sk-parallel-item:first-child::after {align-self: flex-end;width: 50%;}#sk-container-id-1 div.sk-parallel-item:last-child::after {align-self: flex-start;width: 50%;}#sk-container-id-1 div.sk-parallel-item:only-child::after {width: 0;}#sk-container-id-1 div.sk-dashed-wrapped {border: 1px dashed gray;margin: 0 0.4em 0.5em 0.4em;box-sizing: border-box;padding-bottom: 0.4em;background-color: white;}#sk-container-id-1 div.sk-label label {font-family: monospace;font-weight: bold;display: inline-block;line-height: 1.2em;}#sk-container-id-1 div.sk-label-container {text-align: center;}#sk-container-id-1 div.sk-container {/* jupyter's `normalize.less` sets `[hidden] { display: none; }` but bootstrap.min.css set `[hidden] { display: none !important; }` so we also need the `!important` here to be able to override the default hidden behavior on the sphinx rendered scikit-learn.org. See: https://github.com/scikit-learn/scikit-learn/issues/21755 */display: inline-block !important;position: relative;}#sk-container-id-1 div.sk-text-repr-fallback {display: none;}</style><div id=\"sk-container-id-1\" class=\"sk-top-container\"><div class=\"sk-text-repr-fallback\"><pre>Pipeline(memory=Memory(location=None),\n",
       "         steps=[(&#x27;standardscaler&#x27;, StandardScaler()),\n",
       "                (&#x27;labelencoder&#x27;, LabelEncoder(positive_label=None)),\n",
       "                (&#x27;replacenullabletypes&#x27;, ReplaceNullableTypes()),\n",
       "                (&#x27;imputer&#x27;,\n",
       "                 Imputer(categorical_impute_strategy=&#x27;most_frequent&#x27;, numeric_impute_strategy=&#x27;most_frequent&#x27;, boolean_impute_strategy=&#x27;most_frequent&#x27;, categorical_fill_value=None, numeric_fill_value=None, boolean_fill_value=None)),\n",
       "                (&#x27;standardscaler2&#x27;, StandardScaler()),\n",
       "                (&#x27;LR&#x27;,\n",
       "                 LogisticRegression(C=5.348794950380701, n_jobs=6,\n",
       "                                    random_state=1))])</pre><b>In a Jupyter environment, please rerun this cell to show the HTML representation or trust the notebook. <br />On GitHub, the HTML representation is unable to render, please try loading this page with nbviewer.org.</b></div><div class=\"sk-container\" hidden><div class=\"sk-item sk-dashed-wrapped\"><div class=\"sk-label-container\"><div class=\"sk-label sk-toggleable\"><input class=\"sk-toggleable__control sk-hidden--visually\" id=\"sk-estimator-id-1\" type=\"checkbox\" ><label for=\"sk-estimator-id-1\" class=\"sk-toggleable__label sk-toggleable__label-arrow\">Pipeline</label><div class=\"sk-toggleable__content\"><pre>Pipeline(memory=Memory(location=None),\n",
       "         steps=[(&#x27;standardscaler&#x27;, StandardScaler()),\n",
       "                (&#x27;labelencoder&#x27;, LabelEncoder(positive_label=None)),\n",
       "                (&#x27;replacenullabletypes&#x27;, ReplaceNullableTypes()),\n",
       "                (&#x27;imputer&#x27;,\n",
       "                 Imputer(categorical_impute_strategy=&#x27;most_frequent&#x27;, numeric_impute_strategy=&#x27;most_frequent&#x27;, boolean_impute_strategy=&#x27;most_frequent&#x27;, categorical_fill_value=None, numeric_fill_value=None, boolean_fill_value=None)),\n",
       "                (&#x27;standardscaler2&#x27;, StandardScaler()),\n",
       "                (&#x27;LR&#x27;,\n",
       "                 LogisticRegression(C=5.348794950380701, n_jobs=6,\n",
       "                                    random_state=1))])</pre></div></div></div><div class=\"sk-serial\"><div class=\"sk-item\"><div class=\"sk-estimator sk-toggleable\"><input class=\"sk-toggleable__control sk-hidden--visually\" id=\"sk-estimator-id-2\" type=\"checkbox\" ><label for=\"sk-estimator-id-2\" class=\"sk-toggleable__label sk-toggleable__label-arrow\">StandardScaler</label><div class=\"sk-toggleable__content\"><pre>StandardScaler()</pre></div></div></div><div class=\"sk-item\"><div class=\"sk-estimator sk-toggleable\"><input class=\"sk-toggleable__control sk-hidden--visually\" id=\"sk-estimator-id-3\" type=\"checkbox\" ><label for=\"sk-estimator-id-3\" class=\"sk-toggleable__label sk-toggleable__label-arrow\">LabelEncoder</label><div class=\"sk-toggleable__content\"><pre>Label Encoder</pre></div></div></div><div class=\"sk-item\"><div class=\"sk-estimator sk-toggleable\"><input class=\"sk-toggleable__control sk-hidden--visually\" id=\"sk-estimator-id-4\" type=\"checkbox\" ><label for=\"sk-estimator-id-4\" class=\"sk-toggleable__label sk-toggleable__label-arrow\">ReplaceNullableTypes</label><div class=\"sk-toggleable__content\"><pre>Replace Nullable Types Transformer</pre></div></div></div><div class=\"sk-item\"><div class=\"sk-estimator sk-toggleable\"><input class=\"sk-toggleable__control sk-hidden--visually\" id=\"sk-estimator-id-5\" type=\"checkbox\" ><label for=\"sk-estimator-id-5\" class=\"sk-toggleable__label sk-toggleable__label-arrow\">Imputer</label><div class=\"sk-toggleable__content\"><pre>Imputer</pre></div></div></div><div class=\"sk-item\"><div class=\"sk-estimator sk-toggleable\"><input class=\"sk-toggleable__control sk-hidden--visually\" id=\"sk-estimator-id-6\" type=\"checkbox\" ><label for=\"sk-estimator-id-6\" class=\"sk-toggleable__label sk-toggleable__label-arrow\">StandardScaler</label><div class=\"sk-toggleable__content\"><pre>Standard Scaler</pre></div></div></div><div class=\"sk-item\"><div class=\"sk-estimator sk-toggleable\"><input class=\"sk-toggleable__control sk-hidden--visually\" id=\"sk-estimator-id-7\" type=\"checkbox\" ><label for=\"sk-estimator-id-7\" class=\"sk-toggleable__label sk-toggleable__label-arrow\">LogisticRegression</label><div class=\"sk-toggleable__content\"><pre>LogisticRegression(C=5.348794950380701, n_jobs=6, random_state=1)</pre></div></div></div></div></div></div></div>"
      ],
      "text/plain": [
       "Pipeline(memory=Memory(location=None),\n",
       "         steps=[('standardscaler', StandardScaler()),\n",
       "                ('labelencoder', LabelEncoder(positive_label=None)),\n",
       "                ('replacenullabletypes', ReplaceNullableTypes()),\n",
       "                ('imputer',\n",
       "                 Imputer(categorical_impute_strategy='most_frequent', numeric_impute_strategy='most_frequent', boolean_impute_strategy='most_frequent', categorical_fill_value=None, numeric_fill_value=None, boolean_fill_value=None)),\n",
       "                ('standardscaler2', StandardScaler()),\n",
       "                ('LR',\n",
       "                 LogisticRegression(C=5.348794950380701, n_jobs=6,\n",
       "                                    random_state=1))])"
      ]
     },
     "execution_count": 14,
     "metadata": {},
     "output_type": "execute_result"
    }
   ],
   "source": [
    "atom.export_pipeline(model = 'lr')"
   ]
  },
  {
   "cell_type": "code",
   "execution_count": null,
   "metadata": {},
   "outputs": [],
   "source": []
  }
 ],
 "metadata": {
  "kernelspec": {
   "display_name": "Python 3",
   "language": "python",
   "name": "python3"
  },
  "language_info": {
   "codemirror_mode": {
    "name": "ipython",
    "version": 3
   },
   "file_extension": ".py",
   "mimetype": "text/x-python",
   "name": "python",
   "nbconvert_exporter": "python",
   "pygments_lexer": "ipython3",
   "version": "3.8.16"
  },
  "orig_nbformat": 4,
  "vscode": {
   "interpreter": {
    "hash": "9ac03a0a6051494cc606d484d27d20fce22fb7b4d169f583271e11d5ba46a56e"
   }
  }
 },
 "nbformat": 4,
 "nbformat_minor": 2
}
