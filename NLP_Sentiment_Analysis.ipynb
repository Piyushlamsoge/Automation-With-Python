{
  "nbformat": 4,
  "nbformat_minor": 0,
  "metadata": {
    "colab": {
      "provenance": []
    },
    "kernelspec": {
      "name": "python3",
      "display_name": "Python 3"
    },
    "language_info": {
      "name": "python"
    }
  },
  "cells": [
    {
      "cell_type": "code",
      "source": [
        "import nltk\n",
        "nltk.download('punkt')\n",
        "nltk.download('stopwords')\n",
        "nltk.download('wordnet')\n",
        "nltk.download('omw-1.4')\n",
        "import string\n",
        "from nltk.corpus import stopwords\n",
        "from nltk.tokenize import word_tokenize\n",
        "from nltk.stem import WordNetLemmatizer\n",
        "from sklearn.base import BaseEstimator, TransformerMixin\n",
        "from sklearn.feature_extraction.text import TfidfVectorizer\n",
        "from sklearn.naive_bayes import MultinomialNB\n",
        "from sklearn.pipeline import Pipeline\n",
        "from sklearn.metrics import classification_report"
      ],
      "metadata": {
        "colab": {
          "base_uri": "https://localhost:8080/"
        },
        "id": "8zzfcVTxWwET",
        "outputId": "cc933fef-8685-4569-e762-e3366b925dc5"
      },
      "execution_count": 7,
      "outputs": [
        {
          "output_type": "stream",
          "name": "stderr",
          "text": [
            "[nltk_data] Downloading package punkt to /root/nltk_data...\n",
            "[nltk_data]   Package punkt is already up-to-date!\n",
            "[nltk_data] Downloading package stopwords to /root/nltk_data...\n",
            "[nltk_data]   Package stopwords is already up-to-date!\n",
            "[nltk_data] Downloading package wordnet to /root/nltk_data...\n",
            "[nltk_data]   Package wordnet is already up-to-date!\n",
            "[nltk_data] Downloading package omw-1.4 to /root/nltk_data...\n",
            "[nltk_data]   Package omw-1.4 is already up-to-date!\n"
          ]
        }
      ]
    },
    {
      "cell_type": "code",
      "source": [
        "# Load the corpus and labels\n",
        "corpus = [\n",
        "    \"This is a positive sentence.\",\n",
        "    \"This is a negative sentence.\",\n",
        "    \"This is a neutral sentence.\",\n",
        "    \"This is a positive sentence.\",\n",
        "    \"This is a negative sentence.\"\n",
        "]\n",
        "labels = [1, 0, 2, 1, 0]"
      ],
      "metadata": {
        "id": "h710O6b1WxoS"
      },
      "execution_count": 8,
      "outputs": []
    },
    {
      "cell_type": "code",
      "source": [
        "# Define a custom transformer to tokenize text\n",
        "def tokenize_transformer(documents):\n",
        "    return [word_tokenize(doc) for doc in documents]"
      ],
      "metadata": {
        "id": "h4Ln7EsVW219"
      },
      "execution_count": 9,
      "outputs": []
    },
    {
      "cell_type": "code",
      "source": [
        "# Define a custom transformer to remove stop words\n",
        "def stop_words_transformer(documents):\n",
        "    stop_words = set(stopwords.words('english'))\n",
        "    return [[word for word in doc if word.lower() not in stop_words] for doc in documents]"
      ],
      "metadata": {
        "id": "Gf0eNrH5W9vm"
      },
      "execution_count": 10,
      "outputs": []
    },
    {
      "cell_type": "code",
      "source": [
        "# Define a custom transformer to lemmatize words\n",
        "def lemmatize_transformer(documents):\n",
        "    lemmatizer = WordNetLemmatizer()\n",
        "    return [[lemmatizer.lemmatize(word) for word in doc] for doc in documents]"
      ],
      "metadata": {
        "id": "8ObzVS4PXBbE"
      },
      "execution_count": 11,
      "outputs": []
    },
    {
      "cell_type": "code",
      "source": [
        "# Define a custom transformer to join the words back into a single string\n",
        "def join_words_transformer(documents):\n",
        "    return [' '.join(doc) for doc in documents]"
      ],
      "metadata": {
        "id": "BeoNFtosXFcz"
      },
      "execution_count": 12,
      "outputs": []
    },
    {
      "cell_type": "code",
      "source": [
        "# Wrap the functions as transformers\n",
        "class TokenizeTransformer(BaseEstimator, TransformerMixin):\n",
        "    def __init__(self):\n",
        "        pass\n",
        "    \n",
        "    def fit(self, X, y=None):\n",
        "        return self\n",
        "    \n",
        "    def transform(self, X):\n",
        "        return tokenize_transformer(X)"
      ],
      "metadata": {
        "id": "K1YCMrq6XJDS"
      },
      "execution_count": 13,
      "outputs": []
    },
    {
      "cell_type": "code",
      "source": [
        "class StopWordsTransformer(BaseEstimator, TransformerMixin):\n",
        "    def __init__(self):\n",
        "        pass\n",
        "    \n",
        "    def fit(self, X, y=None):\n",
        "        return self\n",
        "    \n",
        "    def transform(self, X):\n",
        "        return stop_words_transformer(X)"
      ],
      "metadata": {
        "id": "3GVEpZKqXM-K"
      },
      "execution_count": 14,
      "outputs": []
    },
    {
      "cell_type": "code",
      "source": [
        "\n",
        "class LemmatizeTransformer(BaseEstimator, TransformerMixin):\n",
        "    def __init__(self):\n",
        "        pass\n",
        "    \n",
        "    def fit(self, X, y=None):\n",
        "        return self\n",
        "    \n",
        "    def transform(self, X):\n",
        "        return lemmatize_transformer(X)"
      ],
      "metadata": {
        "id": "dCc88k5TXQeq"
      },
      "execution_count": 15,
      "outputs": []
    },
    {
      "cell_type": "code",
      "source": [
        "class JoinWordsTransformer(BaseEstimator, TransformerMixin):\n",
        "    def __init__(self):\n",
        "        pass\n",
        "    \n",
        "    def fit(self, X, y=None):\n",
        "        return self\n",
        "    \n",
        "    def transform(self, X):\n",
        "        return join_words_transformer(X)"
      ],
      "metadata": {
        "id": "ThckkwlsXUhs"
      },
      "execution_count": 16,
      "outputs": []
    },
    {
      "cell_type": "code",
      "source": [
        "# Define the pipeline\n",
        "pipeline = Pipeline([\n",
        "    ('tokenize', TokenizeTransformer()),\n",
        "    ('remove_stop_words', StopWordsTransformer()),\n",
        "    ('lemmatize', LemmatizeTransformer()),\n",
        "    ('join_words', JoinWordsTransformer()),\n",
        "    ('vectorize', TfidfVectorizer()),\n",
        "    ('classify', MultinomialNB())\n",
        "])"
      ],
      "metadata": {
        "id": "vz7D5LilXZNc"
      },
      "execution_count": 17,
      "outputs": []
    },
    {
      "cell_type": "code",
      "source": [
        "# Train the model\n",
        "pipeline.fit(corpus, labels)"
      ],
      "metadata": {
        "colab": {
          "base_uri": "https://localhost:8080/"
        },
        "id": "FZMukp8kXc6z",
        "outputId": "e5fc26d4-4fc3-4bcb-b6c9-8debb6ad6c21"
      },
      "execution_count": 18,
      "outputs": [
        {
          "output_type": "execute_result",
          "data": {
            "text/plain": [
              "Pipeline(steps=[('tokenize', TokenizeTransformer()),\n",
              "                ('remove_stop_words', StopWordsTransformer()),\n",
              "                ('lemmatize', LemmatizeTransformer()),\n",
              "                ('join_words', JoinWordsTransformer()),\n",
              "                ('vectorize', TfidfVectorizer()),\n",
              "                ('classify', MultinomialNB())])"
            ]
          },
          "metadata": {},
          "execution_count": 18
        }
      ]
    },
    {
      "cell_type": "code",
      "source": [
        "# Evaluate the model\n",
        "predictions = pipeline.predict(corpus)\n",
        "print(classification_report(labels, predictions))"
      ],
      "metadata": {
        "colab": {
          "base_uri": "https://localhost:8080/"
        },
        "id": "BuFN02tyXhWh",
        "outputId": "208c5265-7d24-4c17-de29-621a83af6595"
      },
      "execution_count": 19,
      "outputs": [
        {
          "output_type": "stream",
          "name": "stdout",
          "text": [
            "              precision    recall  f1-score   support\n",
            "\n",
            "           0       1.00      1.00      1.00         2\n",
            "           1       1.00      1.00      1.00         2\n",
            "           2       1.00      1.00      1.00         1\n",
            "\n",
            "    accuracy                           1.00         5\n",
            "   macro avg       1.00      1.00      1.00         5\n",
            "weighted avg       1.00      1.00      1.00         5\n",
            "\n"
          ]
        }
      ]
    }
  ]
}