{
  "nbformat": 4,
  "nbformat_minor": 0,
  "metadata": {
    "colab": {
      "provenance": []
    },
    "kernelspec": {
      "name": "python3",
      "display_name": "Python 3"
    },
    "language_info": {
      "name": "python"
    }
  },
  "cells": [
    {
      "cell_type": "code",
      "execution_count": 1,
      "metadata": {
        "colab": {
          "base_uri": "https://localhost:8080/"
        },
        "id": "ZdpXoPR0J25B",
        "outputId": "3923c013-68b2-4526-a969-27e067815a32"
      },
      "outputs": [
        {
          "output_type": "stream",
          "name": "stdout",
          "text": [
            "Looking in indexes: https://pypi.org/simple, https://us-python.pkg.dev/colab-wheels/public/simple/\n",
            "Collecting py-AutoClean\n",
            "  Downloading py-AutoClean-1.1.3.tar.gz (9.5 kB)\n",
            "Requirement already satisfied: scikit-learn in /usr/local/lib/python3.8/dist-packages (from py-AutoClean) (1.0.2)\n",
            "Requirement already satisfied: numpy in /usr/local/lib/python3.8/dist-packages (from py-AutoClean) (1.21.6)\n",
            "Requirement already satisfied: pandas in /usr/local/lib/python3.8/dist-packages (from py-AutoClean) (1.3.5)\n",
            "Collecting loguru\n",
            "  Downloading loguru-0.6.0-py3-none-any.whl (58 kB)\n",
            "\u001b[K     |████████████████████████████████| 58 kB 3.7 MB/s \n",
            "\u001b[?25hRequirement already satisfied: pytz>=2017.3 in /usr/local/lib/python3.8/dist-packages (from pandas->py-AutoClean) (2022.6)\n",
            "Requirement already satisfied: python-dateutil>=2.7.3 in /usr/local/lib/python3.8/dist-packages (from pandas->py-AutoClean) (2.8.2)\n",
            "Requirement already satisfied: six>=1.5 in /usr/local/lib/python3.8/dist-packages (from python-dateutil>=2.7.3->pandas->py-AutoClean) (1.15.0)\n",
            "Requirement already satisfied: scipy>=1.1.0 in /usr/local/lib/python3.8/dist-packages (from scikit-learn->py-AutoClean) (1.7.3)\n",
            "Requirement already satisfied: threadpoolctl>=2.0.0 in /usr/local/lib/python3.8/dist-packages (from scikit-learn->py-AutoClean) (3.1.0)\n",
            "Requirement already satisfied: joblib>=0.11 in /usr/local/lib/python3.8/dist-packages (from scikit-learn->py-AutoClean) (1.2.0)\n",
            "Building wheels for collected packages: py-AutoClean\n",
            "  Building wheel for py-AutoClean (setup.py) ... \u001b[?25l\u001b[?25hdone\n",
            "  Created wheel for py-AutoClean: filename=py_AutoClean-1.1.3-py3-none-any.whl size=10287 sha256=00e8fb8d7852f5cc4ac9602e43eaf25297d82c257c36fd0f3aac77f6195acf55\n",
            "  Stored in directory: /root/.cache/pip/wheels/ad/4f/67/954c8ee23fbd4bd1cf075d267714fcd98fd9ef7b2514be8954\n",
            "Successfully built py-AutoClean\n",
            "Installing collected packages: loguru, py-AutoClean\n",
            "Successfully installed loguru-0.6.0 py-AutoClean-1.1.3\n"
          ]
        }
      ],
      "source": [
        "!pip install py-AutoClean"
      ]
    },
    {
      "cell_type": "code",
      "source": [
        "import pandas as pd \n",
        "import numpy as np"
      ],
      "metadata": {
        "id": "wnh2VBCaLLPg"
      },
      "execution_count": 2,
      "outputs": []
    },
    {
      "cell_type": "code",
      "source": [
        "df = pd.read_csv('/content/List of FIFA World Cup finals.csv')\n",
        "df.shape"
      ],
      "metadata": {
        "colab": {
          "base_uri": "https://localhost:8080/"
        },
        "id": "dlQJzqf3LTFO",
        "outputId": "d71feb03-3eeb-4483-ad9b-97efa3820554"
      },
      "execution_count": 4,
      "outputs": [
        {
          "output_type": "execute_result",
          "data": {
            "text/plain": [
              "(25, 10)"
            ]
          },
          "metadata": {},
          "execution_count": 4
        }
      ]
    },
    {
      "cell_type": "code",
      "source": [
        "from AutoClean import AutoClean\n",
        "dataset_clean = AutoClean(df, mode='auto', duplicates=True, missing_num=True, missing_categ=True, \n",
        "          encode_categ=True, extract_datetime=True, outliers=True, outlier_param=1.5, \n",
        "          logfile=False, verbose=True)\n"
      ],
      "metadata": {
        "colab": {
          "base_uri": "https://localhost:8080/"
        },
        "id": "1zF6IM46LmEB",
        "outputId": "e310e1e3-f9bc-4384-974e-1f558f30e7d2"
      },
      "execution_count": 9,
      "outputs": [
        {
          "output_type": "stream",
          "name": "stderr",
          "text": [
            "21-12-2022 05:41:23.60 - INFO - Started validation of input parameters...\n",
            "21-12-2022 05:41:23.60 - INFO - Completed validation of input parameters\n",
            "21-12-2022 05:41:23.61 - INFO - Started handling of duplicates... Method: \"AUTO\"\n",
            "21-12-2022 05:41:23.61 - DEBUG - 0 missing values found\n",
            "21-12-2022 05:41:23.62 - INFO - Completed handling of duplicates in 0.007318 seconds\n",
            "21-12-2022 05:41:23.62 - INFO - Started handling of missing values...\n",
            "21-12-2022 05:41:23.62 - INFO - Found a total of 6 missing value(s)\n",
            "21-12-2022 05:41:23.63 - INFO - Started handling of NUMERICAL missing values... Method: \"AUTO\"\n",
            "21-12-2022 05:41:23.65 - INFO - Started handling of CATEGORICAL missing values... Method: \"AUTO\"\n",
            "21-12-2022 05:41:23.71 - DEBUG - KNN imputation of 1 value(s) succeeded for feature \"Champion\"\n",
            "21-12-2022 05:41:23.72 - DEBUG - KNN imputation of 1 value(s) succeeded for feature \"Score\"\n",
            "21-12-2022 05:41:23.73 - DEBUG - KNN imputation of 1 value(s) succeeded for feature \"Runner_up\"\n",
            "21-12-2022 05:41:23.74 - DEBUG - KNN imputation of 1 value(s) succeeded for feature \"Third\"\n",
            "21-12-2022 05:41:23.75 - DEBUG - KNN imputation of 1 value(s) succeeded for feature \"Score.1\"\n",
            "21-12-2022 05:41:23.76 - DEBUG - KNN imputation of 1 value(s) succeeded for feature \"Fourth\"\n",
            "21-12-2022 05:41:23.77 - INFO - Completed handling of missing values in 0.14353 seconds\n",
            "21-12-2022 05:41:23.77 - INFO - Started handling of outliers... Method: \"WINZ\"\n",
            "21-12-2022 05:41:23.78 - INFO - Completed handling of outliers in 0.003472 seconds\n",
            "21-12-2022 05:41:23.78 - INFO - Started conversion of DATETIME features... Granularity: s\n",
            "21-12-2022 05:41:23.79 - INFO - Completed conversion of DATETIME features in 0.0119 seconds\n",
            "21-12-2022 05:41:23.80 - INFO - Started encoding categorical features... Method: \"AUTO\"\n",
            "21-12-2022 05:41:23.81 - DEBUG - Encoding to ONEHOT succeeded for feature \"No. _ofteams\"\n",
            "21-12-2022 05:41:23.81 - DEBUG - Encoding skipped for feature \"Score\"\n",
            "21-12-2022 05:41:23.82 - DEBUG - Encoding to LABEL succeeded for feature \"Host\"\n",
            "21-12-2022 05:41:23.82 - DEBUG - Encoding to ONEHOT succeeded for feature \"Champion\"\n",
            "21-12-2022 05:41:23.83 - DEBUG - Encoding to LABEL succeeded for feature \"Third\"\n",
            "21-12-2022 05:41:23.83 - DEBUG - Encoding skipped for feature \"Score.1\"\n",
            "21-12-2022 05:41:23.84 - DEBUG - Encoding to LABEL succeeded for feature \"Runner_up\"\n",
            "21-12-2022 05:41:23.85 - DEBUG - Encoding to LABEL succeeded for feature \"Fourth\"\n",
            "21-12-2022 05:41:23.85 - INFO - Completed encoding of categorical features in 0.046029 seconds\n",
            "21-12-2022 05:41:23.85 - INFO - Started feature type conversion...\n",
            "21-12-2022 05:41:23.86 - DEBUG - Conversion to type INT succeeded for feature \"Unnamed: 0\"\n",
            "21-12-2022 05:41:23.86 - DEBUG - Conversion to type INT succeeded for feature \"Year\"\n",
            "21-12-2022 05:41:23.87 - DEBUG - Conversion to type INT succeeded for feature \"No. _ofteams_(Not held because of World War II)\"\n",
            "21-12-2022 05:41:23.87 - DEBUG - Conversion to type INT succeeded for feature \"No. _ofteams_13\"\n",
            "21-12-2022 05:41:23.88 - DEBUG - Conversion to type INT succeeded for feature \"No. _ofteams_15\"\n",
            "21-12-2022 05:41:23.88 - DEBUG - Conversion to type INT succeeded for feature \"No. _ofteams_16\"\n",
            "21-12-2022 05:41:23.89 - DEBUG - Conversion to type INT succeeded for feature \"No. _ofteams_24\"\n",
            "21-12-2022 05:41:23.89 - DEBUG - Conversion to type INT succeeded for feature \"No. _ofteams_32\"\n",
            "21-12-2022 05:41:23.90 - DEBUG - Conversion to type INT succeeded for feature \"No. _ofteams_48\"\n",
            "21-12-2022 05:41:23.90 - DEBUG - Conversion to type INT succeeded for feature \"Host_lab\"\n",
            "21-12-2022 05:41:23.91 - DEBUG - Conversion to type INT succeeded for feature \"Champion_(Not held because of World War II)\"\n",
            "21-12-2022 05:41:23.91 - DEBUG - Conversion to type INT succeeded for feature \"Champion_Argentina\"\n",
            "21-12-2022 05:41:23.92 - DEBUG - Conversion to type INT succeeded for feature \"Champion_Brazil\"\n",
            "21-12-2022 05:41:23.92 - DEBUG - Conversion to type INT succeeded for feature \"Champion_England\"\n",
            "21-12-2022 05:41:23.93 - DEBUG - Conversion to type INT succeeded for feature \"Champion_France\"\n",
            "21-12-2022 05:41:23.93 - DEBUG - Conversion to type INT succeeded for feature \"Champion_Germany\"\n",
            "21-12-2022 05:41:23.93 - DEBUG - Conversion to type INT succeeded for feature \"Champion_Italy\"\n",
            "21-12-2022 05:41:23.94 - DEBUG - Conversion to type INT succeeded for feature \"Champion_Spain\"\n",
            "21-12-2022 05:41:23.94 - DEBUG - Conversion to type INT succeeded for feature \"Champion_Uruguay\"\n",
            "21-12-2022 05:41:23.95 - DEBUG - Conversion to type INT succeeded for feature \"Champion_West Germany\"\n",
            "21-12-2022 05:41:23.95 - DEBUG - Conversion to type INT succeeded for feature \"Third_lab\"\n",
            "21-12-2022 05:41:23.96 - DEBUG - Conversion to type INT succeeded for feature \"Runner_up_lab\"\n",
            "21-12-2022 05:41:23.96 - DEBUG - Conversion to type INT succeeded for feature \"Fourth_lab\"\n",
            "21-12-2022 05:41:23.96 - INFO - Completed feature type conversion for 23 feature(s) in 0.109954 seconds\n",
            "21-12-2022 05:41:23.97 - INFO - AutoClean process completed in 0.377851 seconds\n"
          ]
        }
      ]
    },
    {
      "cell_type": "code",
      "source": [
        "dataset_clean.output.shape"
      ],
      "metadata": {
        "colab": {
          "base_uri": "https://localhost:8080/"
        },
        "id": "i84S0DYVMZUY",
        "outputId": "dfa7ae30-da7e-4e72-98ed-8c79d5be3504"
      },
      "execution_count": 10,
      "outputs": [
        {
          "output_type": "execute_result",
          "data": {
            "text/plain": [
              "(25, 31)"
            ]
          },
          "metadata": {},
          "execution_count": 10
        }
      ]
    },
    {
      "cell_type": "code",
      "source": [],
      "metadata": {
        "id": "NmtOwyvWMct2"
      },
      "execution_count": null,
      "outputs": []
    }
  ]
}